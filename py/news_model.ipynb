{
 "cells": [
  {
   "cell_type": "markdown",
   "metadata": {},
   "source": [
    "# notes\n",
    "- UCI ML News Aggregator Dataset contains headlines\n",
    "- categories for over 400k news articles.\n",
    "- currently uses multinomial scikit learn"
   ]
  },
  {
   "cell_type": "code",
   "execution_count": 6,
   "metadata": {},
   "outputs": [],
   "source": [
    "# get some libraries that will be useful\n",
    "import numpy as np # linear algebra\n",
    "import pandas as pd # data processing, CSV file I/O (e.g. pd.read_csv)x\n",
    "\n",
    "# the Naive Bayes model\n",
    "from sklearn.naive_bayes import MultinomialNB\n",
    "# function to split the data for cross-validation\n",
    "from sklearn.model_selection import train_test_split\n",
    "# function for transforming documents into counts\n",
    "from sklearn.feature_extraction.text import CountVectorizer\n",
    "# function for encoding categories\n",
    "from sklearn.preprocessing import LabelEncoder\n",
    "\n",
    "\n",
    "# grab the data\n",
    "news = pd.read_csv(\"../data_news_aggregator/news_data_uci.csv\")"
   ]
  },
  {
   "cell_type": "code",
   "execution_count": 7,
   "metadata": {},
   "outputs": [
    {
     "data": {
      "text/html": [
       "<div>\n",
       "<table border=\"1\" class=\"dataframe\">\n",
       "  <thead>\n",
       "    <tr style=\"text-align: right;\">\n",
       "      <th></th>\n",
       "      <th>ID</th>\n",
       "      <th>TITLE</th>\n",
       "      <th>URL</th>\n",
       "      <th>PUBLISHER</th>\n",
       "      <th>CATEGORY</th>\n",
       "      <th>STORY</th>\n",
       "      <th>HOSTNAME</th>\n",
       "      <th>TIMESTAMP</th>\n",
       "    </tr>\n",
       "  </thead>\n",
       "  <tbody>\n",
       "    <tr>\n",
       "      <th>0</th>\n",
       "      <td>1</td>\n",
       "      <td>Fed official says weak data caused by weather,...</td>\n",
       "      <td>http://www.latimes.com/business/money/la-fi-mo...</td>\n",
       "      <td>Los Angeles Times</td>\n",
       "      <td>b</td>\n",
       "      <td>ddUyU0VZz0BRneMioxUPQVP6sIxvM</td>\n",
       "      <td>www.latimes.com</td>\n",
       "      <td>1394470370698</td>\n",
       "    </tr>\n",
       "    <tr>\n",
       "      <th>1</th>\n",
       "      <td>2</td>\n",
       "      <td>Fed's Charles Plosser sees high bar for change...</td>\n",
       "      <td>http://www.livemint.com/Politics/H2EvwJSK2VE6O...</td>\n",
       "      <td>Livemint</td>\n",
       "      <td>b</td>\n",
       "      <td>ddUyU0VZz0BRneMioxUPQVP6sIxvM</td>\n",
       "      <td>www.livemint.com</td>\n",
       "      <td>1394470371207</td>\n",
       "    </tr>\n",
       "    <tr>\n",
       "      <th>2</th>\n",
       "      <td>3</td>\n",
       "      <td>US open: Stocks fall after Fed official hints ...</td>\n",
       "      <td>http://www.ifamagazine.com/news/us-open-stocks...</td>\n",
       "      <td>IFA Magazine</td>\n",
       "      <td>b</td>\n",
       "      <td>ddUyU0VZz0BRneMioxUPQVP6sIxvM</td>\n",
       "      <td>www.ifamagazine.com</td>\n",
       "      <td>1394470371550</td>\n",
       "    </tr>\n",
       "    <tr>\n",
       "      <th>3</th>\n",
       "      <td>4</td>\n",
       "      <td>Fed risks falling 'behind the curve', Charles ...</td>\n",
       "      <td>http://www.ifamagazine.com/news/fed-risks-fall...</td>\n",
       "      <td>IFA Magazine</td>\n",
       "      <td>b</td>\n",
       "      <td>ddUyU0VZz0BRneMioxUPQVP6sIxvM</td>\n",
       "      <td>www.ifamagazine.com</td>\n",
       "      <td>1394470371793</td>\n",
       "    </tr>\n",
       "    <tr>\n",
       "      <th>4</th>\n",
       "      <td>5</td>\n",
       "      <td>Fed's Plosser: Nasty Weather Has Curbed Job Gr...</td>\n",
       "      <td>http://www.moneynews.com/Economy/federal-reser...</td>\n",
       "      <td>Moneynews</td>\n",
       "      <td>b</td>\n",
       "      <td>ddUyU0VZz0BRneMioxUPQVP6sIxvM</td>\n",
       "      <td>www.moneynews.com</td>\n",
       "      <td>1394470372027</td>\n",
       "    </tr>\n",
       "  </tbody>\n",
       "</table>\n",
       "</div>"
      ]
     },
     "output_type": "execute_result",
     "metadata": {}
    }
   ],
   "source": [
    "news.head() # let's take a look at our data"
   ]
  },
  {
   "cell_type": "markdown",
   "metadata": {},
   "source": [
    "One thing we'll want to do is normalize the TITLE column a bit: remove punctuation and lowercase everything. This will give us a smaller set of words, which will decrease the size of our model, and ensure that words are treated the same even if they occur capitalized at the beginning of the headline or lowercase in the middle."
   ]
  },
  {
   "cell_type": "code",
   "execution_count": 14,
   "metadata": {},
   "outputs": [
    {
     "name": "stdout",
     "output_type": "stream",
     "text": [
      "422419 0         fed official says weak data caused by weather ...\n",
      "1         fed's charles plosser sees high bar for change...\n",
      "2         us open stocks fall after fed official hints a...\n",
      "3         fed risks falling behind the curve' charles pl...\n",
      "4         fed's plosser nasty weather has curbed job growth\n",
      "5          plosser fed may have to accelerate tapering pace\n",
      "6                  fed's plosser taper pace may be too slow\n",
      "7         fed's plosser expects us unemployment to fall ...\n",
      "8         us jobs growth last month hit by weather:fed p...\n",
      "9         ecb unlikely to end sterilisation of smp purch...\n",
      "10        ecb unlikely to end sterilization of smp purch...\n",
      "11                    eu's half-baked bank union could work\n",
      "12             europe reaches crunch point on banking union\n",
      "13        ecb focus-stronger euro drowns out ecb's messa...\n",
      "14               eu aims for deal on tackling failing banks\n",
      "15         forex pound drops to one-month lows against euro\n",
      "16        noyer says strong euro creates unwarranted eco...\n",
      "17        eu week ahead march 10-14 bank resolution tran...\n",
      "18        ecb member noyer is very open to all kinds of ...\n",
      "19        euro anxieties wane as bunds top treasuries sp...\n",
      "20        noyer says strong euro creates unwarranted eco...\n",
      "21        noyer says stronger euro creates unwarranted p...\n",
      "22        bad loan triggers key feature in ecb bank test...\n",
      "23        china's trade deficit and structural worries i...\n",
      "24                  10 things you need to know this morning\n",
      "25          ecb's noyer not happy with euro strength update\n",
      "26          eurozone banks sovereign exposure hits new high\n",
      "27        ecb to reveal bad loan hurdles for euro zone b...\n",
      "28        forex market eur/usd retreats from 2-1/2-year ...\n",
      "29        refile-bad loan triggers key feature in ecb ba...\n",
      "                                ...                        \n",
      "422389    cdc director says liberia ebola outbreak to ge...\n",
      "422390    france asks citizens to avoid liberia sierra l...\n",
      "422391    ebola-infected doctor in sierra leone sahr rog...\n",
      "422392    ebola zone nations isolated as airlines stop f...\n",
      "422393    28/08/2014ebola response dangerously inadequat...\n",
      "422394    glaxo's ebola vaccine may begin safety tests i...\n",
      "422395    ebola causing huge damage to west african econ...\n",
      "422396      ebola outbreak it's even worse than i'd feared'\n",
      "422397       cdc ebola outbreak even worse than i'd feared'\n",
      "422398    ebola virus disease in the democratic republic...\n",
      "422399    cdc chief warns liberia ebola crisis will get ...\n",
      "422400    update 3-ebola causing huge damage to w.africa...\n",
      "422401    who removes staff from sierra leone ebola cent...\n",
      "422402    ebola causing huge damage to w africa economie...\n",
      "422403    democratic republic of congo reports ebola out...\n",
      "422404                 british ebola sufferer gets new drug\n",
      "422405    afdb boss says ebola infected countries may lo...\n",
      "422406    cincinnati children's to rebuild boy's throat ...\n",
      "422407    cincinnati doctors use child's rib to rebuild ...\n",
      "422408    cincinnati children's surgeons rebuild throat ...\n",
      "422409    surgeons remove 4-year-old's rib to rebuild da...\n",
      "422410         surgery update for boy who swallowed battery\n",
      "422411         boy who swallowed battery headed for surgery\n",
      "422412    ohio boy's throat rebuilt after being burned b...\n",
      "422413    cincinnati children's surgeons to rebuild thro...\n",
      "422414    surgeons to remove 4-year-old's rib to rebuild...\n",
      "422415    boy to have surgery on esophagus after battery...\n",
      "422416    child who swallowed battery to have reconstruc...\n",
      "422417    phoenix boy undergoes surgery to repair throat...\n",
      "422418    phoenix boy undergoes surgery to repair throat...\n",
      "Name: TEXT, dtype: object\n"
     ]
    }
   ],
   "source": [
    "from train import normalize_text\n",
    "news['TEXT'] = [normalize_text(s) for s in news['TITLE']]\n",
    "print(len(news['TEXT']),news['TEXT'])"
   ]
  },
  {
   "cell_type": "markdown",
   "metadata": {},
   "source": [
    "# format into matrix"
   ]
  },
  {
   "cell_type": "code",
   "execution_count": 10,
   "metadata": {},
   "outputs": [
    {
     "name": "stdout",
     "output_type": "stream",
     "text": [
      "(337935, 54637)\n",
      "(337935,)\n",
      "(84484, 54637)\n",
      "(84484,)\n"
     ]
    }
   ],
   "source": [
    "# pull the data into vectors\n",
    "vectorizer = CountVectorizer()\n",
    "x = vectorizer.fit_transform(news['TEXT'])\n",
    "\n",
    "encoder = LabelEncoder()\n",
    "y = encoder.fit_transform(news['CATEGORY'])\n",
    "\n",
    "# split into train and test sets\n",
    "x_train, x_test, y_train, y_test = train_test_split(x, y, test_size=0.2)\n",
    "\n",
    "# take a look at the shape of each of these\n",
    "print(x_train.shape)\n",
    "print(y_train.shape)\n",
    "print(x_test.shape)\n",
    "print(y_test.shape)"
   ]
  },
  {
   "cell_type": "markdown",
   "metadata": {},
   "source": [
    "So the x training vector contains 337935 observations of 54637 occurrences -- this latter number is the number of unique words in the entire collection of headlines. The x training vector contains the 337935 labels associated with each observation in the x training vector.\n",
    "\n",
    "So we're ready to go. Let's make the classifier!"
   ]
  },
  {
   "cell_type": "code",
   "execution_count": 7,
   "metadata": {},
   "outputs": [
    {
     "data": {
      "text/plain": [
       "MultinomialNB(alpha=1.0, class_prior=None, fit_prior=True)"
      ]
     },
     "execution_count": 7,
     "output_type": "execute_result",
     "metadata": {}
    }
   ],
   "source": [
    "nb = MultinomialNB()\n",
    "nb.fit(x_train, y_train)"
   ]
  },
  {
   "cell_type": "markdown",
   "metadata": {},
   "source": [
    "How well did it do?"
   ]
  },
  {
   "cell_type": "code",
   "execution_count": 8,
   "metadata": {},
   "outputs": [
    {
     "data": {
      "text/plain": [
       "0.92754841153354484"
      ]
     },
     "execution_count": 8,
     "output_type": "execute_result",
     "metadata": {}
    }
   ],
   "source": [
    "nb.score(x_test, y_test)"
   ]
  },
  {
   "cell_type": "markdown",
   "metadata": {},
   "source": [
    "If you feel like exploring what words are characteristic of each category, you can pull out the coefficients of the Naive Bayes classifier:"
   ]
  }
 ],
 "metadata": {
  "_change_revision": 583.0,
  "_is_fork": false,
  "kernelspec": {
   "display_name": "Python 3",
   "language": "python",
   "name": "python3"
  },
  "language_info": {
   "codemirror_mode": {
    "name": "ipython",
    "version": 3.0
   },
   "file_extension": ".py",
   "mimetype": "text/x-python",
   "name": "python",
   "nbconvert_exporter": "python",
   "pygments_lexer": "ipython3",
   "version": "3.4.1"
  }
 },
 "nbformat": 4,
 "nbformat_minor": 0
}